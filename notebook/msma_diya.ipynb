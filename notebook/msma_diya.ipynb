{
  "nbformat": 4,
  "nbformat_minor": 0,
  "metadata": {
    "colab": {
      "provenance": []
    },
    "kernelspec": {
      "name": "python3",
      "display_name": "Python 3"
    },
    "language_info": {
      "name": "python"
    }
  },
  "cells": [
    {
      "cell_type": "code",
      "execution_count": null,
      "metadata": {
        "id": "G3GP5zOWl8UT"
      },
      "outputs": [],
      "source": [
        "import os\n",
        "import math\n",
        "import random\n",
        "from typing import List\n",
        "\n",
        "import numpy as np\n",
        "import pandas as pd\n",
        "from sklearn.model_selection import train_test_split\n",
        "from sklearn.preprocessing import StandardScaler\n",
        "from sklearn.metrics import classification_report, confusion_matrix\n",
        "\n",
        "import torch\n",
        "import torch.nn as nn\n",
        "import torch.nn.functional as F\n",
        "from torch.utils.data import Dataset, DataLoader, WeightedRandomSampler"
      ]
    },
    {
      "cell_type": "code",
      "source": [
        "device = torch.device('cuda' if torch.cuda.is_available() else 'cpu')\n",
        "print('Using device:', device)"
      ],
      "metadata": {
        "id": "ICZd8bWymUmO",
        "colab": {
          "base_uri": "https://localhost:8080/"
        },
        "outputId": "05c53875-100f-46f7-8a09-01f597a33b5a"
      },
      "execution_count": null,
      "outputs": [
        {
          "output_type": "stream",
          "name": "stdout",
          "text": [
            "Using device: cpu\n"
          ]
        }
      ]
    },
    {
      "cell_type": "code",
      "source": [
        "DATA_PATH = '/content/exoplanet_habitability.csv'\n",
        "assert os.path.exists(DATA_PATH), f\"CSV not found at {DATA_PATH}\"\n",
        "\n",
        "raw = pd.read_csv(DATA_PATH)\n",
        "print('Raw shape:', raw.shape)\n",
        "print('Detected columns:', raw.columns[:30].tolist(), '...')"
      ],
      "metadata": {
        "id": "ssrrwEQLmXTS",
        "colab": {
          "base_uri": "https://localhost:8080/"
        },
        "outputId": "3af10820-fae7-4be5-e829-6a39bd20791e"
      },
      "execution_count": null,
      "outputs": [
        {
          "output_type": "stream",
          "name": "stdout",
          "text": [
            "Raw shape: (5933, 320)\n",
            "Detected columns: ['rowid', 'pl_name', 'hostname', 'pl_letter', 'hd_name', 'hip_name', 'tic_id', 'gaia_id', 'sy_snum', 'sy_pnum', 'sy_mnum', 'cb_flag', 'discoverymethod', 'disc_year', 'disc_refname', 'disc_pubdate', 'disc_locale', 'disc_facility', 'disc_telescope', 'disc_instrument', 'rv_flag', 'pul_flag', 'ptv_flag', 'tran_flag', 'ast_flag', 'obm_flag', 'micro_flag', 'etv_flag', 'ima_flag', 'dkin_flag'] ...\n"
          ]
        }
      ]
    },
    {
      "cell_type": "code",
      "source": [
        "if 'habitability' not in raw.columns:\n",
        "    raise RuntimeError(\"Expected 'habitability' column in CSV\")\n",
        "\n",
        "print('\\nTarget value counts:')\n",
        "print(raw['habitability'].value_counts(dropna=False))"
      ],
      "metadata": {
        "id": "tIlC0YR2mb7e",
        "colab": {
          "base_uri": "https://localhost:8080/"
        },
        "outputId": "95239a49-e353-4d4d-b279-ce446efd93c0"
      },
      "execution_count": null,
      "outputs": [
        {
          "output_type": "stream",
          "name": "stdout",
          "text": [
            "\n",
            "Target value counts:\n",
            "habitability\n",
            "0.0    5863\n",
            "0.6      41\n",
            "0.9      29\n",
            "Name: count, dtype: int64\n"
          ]
        }
      ]
    },
    {
      "cell_type": "code",
      "source": [
        "label_map = {0.0: 0, 0.6: 1, 0.9: 2}\n",
        "unique_targets = sorted(raw['habitability'].dropna().unique())\n",
        "if set(unique_targets).issubset(set(label_map.keys())):\n",
        "    raw['target'] = raw['habitability'].map(label_map)\n",
        "else:\n",
        "    # fallback automatic mapping\n",
        "    mapping = {v:i for i,v in enumerate(unique_targets)}\n",
        "    raw['target'] = raw['habitability'].map(mapping)\n",
        "    print('Auto-mapped targets:', mapping)\n",
        "\n",
        "print('\\nMapped target distribution:')\n",
        "print(raw['target'].value_counts())"
      ],
      "metadata": {
        "id": "Fy7pcAYimgjG",
        "colab": {
          "base_uri": "https://localhost:8080/"
        },
        "outputId": "c16c1a86-c54a-4db7-c0ee-8554c8599504"
      },
      "execution_count": null,
      "outputs": [
        {
          "output_type": "stream",
          "name": "stdout",
          "text": [
            "\n",
            "Mapped target distribution:\n",
            "target\n",
            "0    5863\n",
            "1      41\n",
            "2      29\n",
            "Name: count, dtype: int64\n"
          ]
        }
      ]
    },
    {
      "cell_type": "code",
      "source": [
        "def select_relevant_columns(df: pd.DataFrame) -> pd.DataFrame:\n",
        "\n",
        "    # keep numeric columns and drop strings like names\n",
        "    numeric_cols = df.select_dtypes(include=[np.number]).columns.tolist()\n",
        "    # keep target\n",
        "    if 'target' in df.columns and 'target' not in numeric_cols:\n",
        "        numeric_cols.append('target')\n",
        "    # drop columns that are clearly IDs or coordinates if present (optional)\n",
        "    to_drop_prefixes = ['pl_name', 'hostname', 'sy_', 'ra', 'dec']\n",
        "    filtered = [c for c in numeric_cols if not any(c.lower().startswith(p) for p in to_drop_prefixes)]\n",
        "    return df[filtered].copy()"
      ],
      "metadata": {
        "id": "Diogja09mj8W"
      },
      "execution_count": null,
      "outputs": []
    },
    {
      "cell_type": "code",
      "source": [
        "def engineer_features(df: pd.DataFrame) -> pd.DataFrame:\n",
        "\n",
        "    df = df.copy()\n",
        "    if 'pl_orbsmax' in df.columns and 'pl_orbper' in df.columns:\n",
        "        mask = df['pl_orbsmax'].notna() & df['pl_orbper'].notna() & (df['pl_orbper'] != 0)\n",
        "        if mask.sum() > 0:\n",
        "            # period in days -> seconds factor cancels out for relative ranking\n",
        "            df.loc[mask, 'orbital_velocity'] = 2 * math.pi * df.loc[mask, 'pl_orbsmax'] / (df.loc[mask, 'pl_orbper'] / 365.25)\n",
        "    if 'pl_bmasse' in df.columns and 'pl_rade' in df.columns:\n",
        "        mask = df['pl_bmasse'].notna() & df['pl_rade'].notna() & (df['pl_rade'] > 0)\n",
        "        if mask.sum() > 0:\n",
        "            df.loc[mask, 'surface_gravity'] = df.loc[mask, 'pl_bmasse'] / (df.loc[mask, 'pl_rade'] ** 2)\n",
        "    # Example binary feature\n",
        "    if 'pl_bmasse' in df.columns:\n",
        "        df['is_super_earth'] = (df['pl_bmasse'] >= 1).astype(float)\n",
        "    return df\n"
      ],
      "metadata": {
        "id": "XDSc5MLRmv1b"
      },
      "execution_count": null,
      "outputs": []
    },
    {
      "cell_type": "code",
      "source": [
        "def preprocess_tabular(df: pd.DataFrame, min_nonnull_frac=0.6):\n",
        "\n",
        "    df = select_relevant_columns(df)\n",
        "    df = engineer_features(df)\n",
        "\n",
        "    # drop columns with too many missing values\n",
        "    keep_cols = []\n",
        "    n = len(df)\n",
        "    for c in df.columns:\n",
        "        nonnull_frac = df[c].notna().sum() / max(1, n)\n",
        "        if nonnull_frac >= min_nonnull_frac or c == 'target':\n",
        "            keep_cols.append(c)\n",
        "    df = df[keep_cols].copy()\n",
        "\n",
        "    # impute numeric columns with median\n",
        "    num_cols = [c for c in df.columns if c != 'target']\n",
        "    for c in num_cols:\n",
        "        if df[c].isna().any():\n",
        "            med = df[c].median()\n",
        "            df[c] = df[c].fillna(med)\n",
        "\n",
        "    # drop columns with near-zero variance\n",
        "    nunique = df[num_cols].nunique()\n",
        "    low_var_cols = nunique[nunique <= 1].index.tolist()\n",
        "    if low_var_cols:\n",
        "        print('Dropping low-variance cols:', low_var_cols)\n",
        "        df = df.drop(columns=low_var_cols)\n",
        "\n",
        "    return df"
      ],
      "metadata": {
        "id": "uHFJWQxVm0uX"
      },
      "execution_count": null,
      "outputs": []
    },
    {
      "cell_type": "code",
      "source": [
        "proc = preprocess_tabular(raw, min_nonnull_frac=0.5)\n",
        "print('Preprocessed shape:', proc.shape)\n",
        "\n",
        "features = [c for c in proc.columns if c != 'target']\n",
        "X = proc[features].values.astype(np.float32)\n",
        "y = proc['target'].astype(int).values"
      ],
      "metadata": {
        "id": "n2xIaRVCm8gV",
        "colab": {
          "base_uri": "https://localhost:8080/"
        },
        "outputId": "58ea6a87-3ea9-4660-d36b-53a572faffe6"
      },
      "execution_count": null,
      "outputs": [
        {
          "output_type": "stream",
          "name": "stdout",
          "text": [
            "Dropping low-variance cols: ['pl_angseplim', 'pl_insollim', 'pl_tranmidlim', 'pl_ratrorlim', 'st_radlim', 'st_masslim', 'st_lumlim', 'st_denslim']\n",
            "Preprocessed shape: (5933, 113)\n"
          ]
        }
      ]
    },
    {
      "cell_type": "code",
      "source": [
        "scaler = StandardScaler()\n",
        "X = scaler.fit_transform(X)"
      ],
      "metadata": {
        "id": "_Hd3tcQIm_Kp"
      },
      "execution_count": null,
      "outputs": []
    },
    {
      "cell_type": "code",
      "source": [
        "X_train, X_temp, y_train, y_temp = train_test_split(X, y, test_size=0.3, stratify=y, random_state=42)\n",
        "X_val, X_test, y_val, y_test = train_test_split(X_temp, y_temp, test_size=0.5, stratify=y_temp, random_state=42)\n",
        "\n",
        "print('Train / Val / Test sizes:', len(X_train), len(X_val), len(X_test))"
      ],
      "metadata": {
        "id": "AU63aCofnBi2",
        "colab": {
          "base_uri": "https://localhost:8080/"
        },
        "outputId": "43153640-759d-4654-8bf2-8e41796baacd"
      },
      "execution_count": null,
      "outputs": [
        {
          "output_type": "stream",
          "name": "stdout",
          "text": [
            "Train / Val / Test sizes: 4153 890 890\n"
          ]
        }
      ]
    },
    {
      "cell_type": "code",
      "source": [
        "class TabularDataset(Dataset):\n",
        "    def __init__(self, X, y):\n",
        "        self.X = torch.from_numpy(X).float()\n",
        "        self.y = torch.from_numpy(y).long()\n",
        "    def __len__(self):\n",
        "        return len(self.y)\n",
        "    def __getitem__(self, idx):\n",
        "        return self.X[idx], self.y[idx]\n",
        "\n",
        "train_ds = TabularDataset(X_train, y_train)\n",
        "val_ds = TabularDataset(X_val, y_val)\n",
        "test_ds = TabularDataset(X_test, y_test)"
      ],
      "metadata": {
        "id": "9DGOdCXanJau"
      },
      "execution_count": null,
      "outputs": []
    },
    {
      "cell_type": "code",
      "source": [
        "class_sample_counts = np.bincount(y_train)\n",
        "print('Class counts (train):', class_sample_counts)\n",
        "weights = 1.0 / class_sample_counts\n",
        "sample_weights = weights[y_train]\n",
        "sampler = WeightedRandomSampler(weights=sample_weights, num_samples=len(sample_weights), replacement=True)\n",
        "\n",
        "batch_size = 128\n",
        "train_loader = DataLoader(train_ds, batch_size=batch_size, sampler=sampler)\n",
        "val_loader = DataLoader(val_ds, batch_size=batch_size, shuffle=False)\n",
        "test_loader = DataLoader(test_ds, batch_size=batch_size, shuffle=False)"
      ],
      "metadata": {
        "id": "onz0KytInMLm",
        "colab": {
          "base_uri": "https://localhost:8080/"
        },
        "outputId": "012f706c-daab-4dbf-a132-5faa86444756"
      },
      "execution_count": null,
      "outputs": [
        {
          "output_type": "stream",
          "name": "stdout",
          "text": [
            "Class counts (train): [4104   29   20]\n"
          ]
        }
      ]
    },
    {
      "cell_type": "code",
      "source": [
        "class SEBlock(nn.Module):\n",
        "    def __init__(self, channels, reduction=4):\n",
        "        super().__init__()\n",
        "        hidden = max(1, channels // reduction)\n",
        "        self.fc1 = nn.Linear(channels, hidden)\n",
        "        self.fc2 = nn.Linear(hidden, channels)\n",
        "    def forward(self, x):\n",
        "        # x: (batch, channels)\n",
        "        s = F.relu(self.fc1(x))\n",
        "        s = torch.sigmoid(self.fc2(s))\n",
        "        return x * s"
      ],
      "metadata": {
        "id": "n0nwRfdEnOyf"
      },
      "execution_count": null,
      "outputs": []
    },
    {
      "cell_type": "code",
      "source": [
        "class DenseBranch(nn.Module):\n",
        "    def __init__(self, input_dim, layer_sizes: List[int], dropout=0.2):\n",
        "        super().__init__()\n",
        "        layers = []\n",
        "        prev = input_dim\n",
        "        for h in layer_sizes:\n",
        "            layers.append(nn.Linear(prev, h))\n",
        "            layers.append(nn.BatchNorm1d(h))\n",
        "            layers.append(nn.ReLU())\n",
        "            layers.append(nn.Dropout(dropout))\n",
        "            prev = h\n",
        "        self.net = nn.Sequential(*layers)\n",
        "        self.se = SEBlock(prev, reduction=4)\n",
        "    def forward(self, x):\n",
        "        h = self.net(x)\n",
        "        h = self.se(h)\n",
        "        return h"
      ],
      "metadata": {
        "id": "n7Ix_l6gnRNp"
      },
      "execution_count": null,
      "outputs": []
    },
    {
      "cell_type": "code",
      "source": [
        "class TransformerBranch(nn.Module):\n",
        "    def __init__(self, num_features, embed_dim=64, n_heads=4, n_layers=2, dropout=0.1):\n",
        "        super().__init__()\n",
        "        self.num_features = num_features\n",
        "        self.embed_dim = embed_dim\n",
        "        # project each scalar feature -> embed_dim vector\n",
        "        self.feature_proj = nn.Linear(1, embed_dim)\n",
        "        self.pos_embed = nn.Parameter(torch.randn(num_features, embed_dim) * 0.01)\n",
        "        self.layers = nn.ModuleList()\n",
        "        for _ in range(n_layers):\n",
        "            self.layers.append(nn.ModuleDict({\n",
        "                'mha': nn.MultiheadAttention(embed_dim, num_heads=n_heads, dropout=dropout, batch_first=True),\n",
        "                'ffn': nn.Sequential(nn.Linear(embed_dim, embed_dim*4), nn.ReLU(), nn.Linear(embed_dim*4, embed_dim))\n",
        "            }))\n",
        "        self.layernorms = nn.ModuleList([nn.LayerNorm(embed_dim) for _ in range(n_layers*2)])\n",
        "    def forward(self, x):\n",
        "        # x: (batch, num_features)\n",
        "        b = x.shape[0]\n",
        "        # to (batch, seq_len, 1)\n",
        "        tokens = x.unsqueeze(-1)\n",
        "        h = self.feature_proj(tokens)  # (batch, seq_len, embed_dim)\n",
        "        # add pos embed\n",
        "        h = h + self.pos_embed.unsqueeze(0)\n",
        "        for i,layer in enumerate(self.layers):\n",
        "            # MultiheadAttention with batch_first=True expects (batch, seq, embed)\n",
        "            attn_out, _ = layer['mha'](h, h, h)\n",
        "            h = self.layernorms[2*i](h + attn_out)\n",
        "            ffn_out = layer['ffn'](h)\n",
        "            h = self.layernorms[2*i+1](h + ffn_out)\n",
        "        # aggregate across sequence (mean pooling)\n",
        "        h = h.mean(dim=1)  # (batch, embed_dim)\n",
        "        return h\n"
      ],
      "metadata": {
        "id": "igSZKePZnUhV"
      },
      "execution_count": null,
      "outputs": []
    },
    {
      "cell_type": "code",
      "source": [
        "class MSMAClassifier(nn.Module):\n",
        "    def __init__(self, input_dim, n_classes=3, embed_dim=64):\n",
        "        super().__init__()\n",
        "        # three branches: shallow, deep, transformer\n",
        "        self.branch_shallow = DenseBranch(input_dim, [128], dropout=0.2)\n",
        "        self.branch_deep = DenseBranch(input_dim, [256, 128], dropout=0.3)\n",
        "        self.branch_transformer = TransformerBranch(num_features=input_dim, embed_dim=embed_dim, n_heads=4, n_layers=2)\n",
        "        combined_dim = 128 + 128 + embed_dim\n",
        "        self.head = nn.Sequential(\n",
        "            nn.Linear(combined_dim, 128),\n",
        "            nn.ReLU(),\n",
        "            nn.Dropout(0.3),\n",
        "            nn.Linear(128, n_classes)\n",
        "        )\n",
        "    def forward(self, x):\n",
        "        # x: (batch, input_dim)\n",
        "        a = self.branch_shallow(x)\n",
        "        b = self.branch_deep(x)\n",
        "        c = self.branch_transformer(x)\n",
        "        # ensure dims match along channel\n",
        "        # if branch outputs have extra dims, flatten them\n",
        "        if a.dim() > 2: a = a.view(a.size(0), -1)\n",
        "        if b.dim() > 2: b = b.view(b.size(0), -1)\n",
        "        if c.dim() > 2: c = c.view(c.size(0), -1)\n",
        "        out = torch.cat([a, b, c], dim=1)\n",
        "        logits = self.head(out)\n",
        "        return logits\n"
      ],
      "metadata": {
        "id": "uaM5jl4jnX_3"
      },
      "execution_count": null,
      "outputs": []
    },
    {
      "cell_type": "code",
      "source": [
        "\n",
        "def compute_class_weights(y):\n",
        "    counts = np.bincount(y)\n",
        "    weights = len(y) / (len(counts) * counts.clip(min=1))\n",
        "    return torch.tensor(weights, dtype=torch.float32)"
      ],
      "metadata": {
        "id": "AtEZDijCnaSO"
      },
      "execution_count": null,
      "outputs": []
    },
    {
      "cell_type": "code",
      "source": [
        "def train_one_epoch(model, loader, opt, criterion):\n",
        "    model.train()\n",
        "    total_loss = 0.0\n",
        "    correct = 0\n",
        "    total = 0\n",
        "    for xb, yb in loader:\n",
        "        xb = xb.to(device)\n",
        "        yb = yb.to(device)\n",
        "        opt.zero_grad()\n",
        "        logits = model(xb)\n",
        "        loss = criterion(logits, yb)\n",
        "        loss.backward()\n",
        "        opt.step()\n",
        "        total_loss += loss.item() * xb.size(0)\n",
        "        preds = logits.argmax(dim=1)\n",
        "        correct += (preds == yb).sum().item()\n",
        "        total += xb.size(0)\n",
        "    return total_loss / total, correct / total"
      ],
      "metadata": {
        "id": "rvWQBXJQndRc"
      },
      "execution_count": null,
      "outputs": []
    },
    {
      "cell_type": "code",
      "source": [
        "def evaluate(model, loader, criterion):\n",
        "    model.eval()\n",
        "    total_loss = 0.0\n",
        "    correct = 0\n",
        "    total = 0\n",
        "    y_true = []\n",
        "    y_pred = []\n",
        "    with torch.no_grad():\n",
        "        for xb, yb in loader:\n",
        "            xb = xb.to(device)\n",
        "            yb = yb.to(device)\n",
        "            logits = model(xb)\n",
        "            loss = criterion(logits, yb)\n",
        "            total_loss += loss.item() * xb.size(0)\n",
        "            preds = logits.argmax(dim=1)\n",
        "            correct += (preds == yb).sum().item()\n",
        "            total += xb.size(0)\n",
        "            y_true.append(yb.cpu().numpy())\n",
        "            y_pred.append(preds.cpu().numpy())\n",
        "    y_true = np.concatenate(y_true)\n",
        "    y_pred = np.concatenate(y_pred)\n",
        "    return total_loss / total, correct / total, y_true, y_pred\n"
      ],
      "metadata": {
        "id": "KS38lJFRngdn"
      },
      "execution_count": null,
      "outputs": []
    },
    {
      "cell_type": "code",
      "source": [
        "input_dim = X_train.shape[1]\n",
        "n_classes = len(np.unique(y))\n",
        "model = MSMAClassifier(input_dim=input_dim, n_classes=n_classes, embed_dim=64).to(device)\n",
        "\n",
        "class_weights = compute_class_weights(y_train).to(device)\n",
        "criterion = nn.CrossEntropyLoss(weight=class_weights)\n",
        "opt = torch.optim.Adam(model.parameters(), lr=1e-3)"
      ],
      "metadata": {
        "id": "i0uZ_UNnnqSv"
      },
      "execution_count": null,
      "outputs": []
    },
    {
      "cell_type": "code",
      "source": [
        "from tqdm import tqdm\n",
        "n_epochs = 40\n",
        "best_val_acc = 0.0\n",
        "patience = 8\n",
        "patience_counter = 0\n",
        "save_path = 'msma_best.pt'"
      ],
      "metadata": {
        "id": "KlNLR5DIntWS"
      },
      "execution_count": null,
      "outputs": []
    },
    {
      "cell_type": "code",
      "source": [
        "for epoch in range(1, n_epochs+1):\n",
        "    train_loss, train_acc = train_one_epoch(model, train_loader, opt, criterion)\n",
        "    val_loss, val_acc, _, _ = evaluate(model, val_loader, criterion)\n",
        "    print(f\"Epoch {epoch:02d}: train_loss={train_loss:.4f}, train_acc={train_acc:.4f}  |  val_loss={val_loss:.4f}, val_acc={val_acc:.4f}\")\n",
        "    if val_acc > best_val_acc:\n",
        "        best_val_acc = val_acc\n",
        "        torch.save(model.state_dict(), save_path)\n",
        "        patience_counter = 0\n",
        "        print('  -> saved new best model')\n",
        "    else:\n",
        "        patience_counter += 1\n",
        "        if patience_counter >= patience:\n",
        "            print('Early stopping triggered')\n",
        "            break"
      ],
      "metadata": {
        "id": "FeEiX2-6nvx1",
        "colab": {
          "base_uri": "https://localhost:8080/"
        },
        "outputId": "b1284de4-2665-4b33-cf7e-11123c112af6"
      },
      "execution_count": null,
      "outputs": [
        {
          "output_type": "stream",
          "name": "stdout",
          "text": [
            "Epoch 01: train_loss=0.2553, train_acc=0.6078  |  val_loss=2.4282, val_acc=0.0112\n",
            "  -> saved new best model\n",
            "Epoch 02: train_loss=0.0114, train_acc=0.6805  |  val_loss=1.0181, val_acc=0.0112\n",
            "Epoch 03: train_loss=0.0032, train_acc=0.8904  |  val_loss=0.4007, val_acc=0.8876\n",
            "  -> saved new best model\n",
            "Epoch 04: train_loss=0.0011, train_acc=0.9728  |  val_loss=0.3064, val_acc=0.9382\n",
            "  -> saved new best model\n",
            "Epoch 05: train_loss=0.0006, train_acc=0.9865  |  val_loss=0.2533, val_acc=0.9652\n",
            "  -> saved new best model\n",
            "Epoch 06: train_loss=0.0004, train_acc=0.9916  |  val_loss=0.2189, val_acc=0.9910\n",
            "  -> saved new best model\n",
            "Epoch 07: train_loss=0.0003, train_acc=0.9949  |  val_loss=0.2440, val_acc=0.9933\n",
            "  -> saved new best model\n",
            "Epoch 08: train_loss=0.0001, train_acc=0.9988  |  val_loss=0.2402, val_acc=0.9933\n",
            "Epoch 09: train_loss=0.0001, train_acc=0.9974  |  val_loss=0.2208, val_acc=0.9978\n",
            "  -> saved new best model\n",
            "Epoch 10: train_loss=0.0001, train_acc=0.9986  |  val_loss=0.2324, val_acc=0.9966\n",
            "Epoch 11: train_loss=0.0001, train_acc=0.9990  |  val_loss=0.2405, val_acc=0.9966\n",
            "Epoch 12: train_loss=0.0001, train_acc=0.9993  |  val_loss=0.2466, val_acc=0.9989\n",
            "  -> saved new best model\n",
            "Epoch 13: train_loss=0.0000, train_acc=0.9990  |  val_loss=0.2310, val_acc=0.9989\n",
            "Epoch 14: train_loss=0.0000, train_acc=0.9993  |  val_loss=0.2356, val_acc=0.9989\n",
            "Epoch 15: train_loss=0.0000, train_acc=1.0000  |  val_loss=0.2429, val_acc=0.9989\n",
            "Epoch 16: train_loss=0.0000, train_acc=1.0000  |  val_loss=0.2710, val_acc=0.9989\n"
          ]
        }
      ]
    },
    {
      "cell_type": "code",
      "source": [
        "model.load_state_dict(torch.load(save_path))\n",
        "_test_loss, test_acc, y_true, y_pred = evaluate(model, test_loader, criterion)\n",
        "print('\\nFinal test accuracy:', test_acc)\n",
        "print('\\nClassification report:')\n",
        "print(classification_report(y_true, y_pred))\n",
        "print('\\nConfusion matrix:')\n",
        "print(confusion_matrix(y_true, y_pred))"
      ],
      "metadata": {
        "id": "Z_25AwBlnyn3",
        "colab": {
          "base_uri": "https://localhost:8080/"
        },
        "outputId": "71320188-6bb1-4ac5-c87d-eee8a809b1de"
      },
      "execution_count": null,
      "outputs": [
        {
          "metadata": {
            "tags": null
          },
          "name": "stdout",
          "output_type": "stream",
          "text": [
            "\n",
            "Final test accuracy: 0.996629213483146\n",
            "\n",
            "Classification report:\n",
            "              precision    recall  f1-score   support\n",
            "\n",
            "           0       1.00      1.00      1.00       880\n",
            "           1       0.67      1.00      0.80         6\n",
            "           2       1.00      0.75      0.86         4\n",
            "\n",
            "    accuracy                           1.00       890\n",
            "   macro avg       0.89      0.92      0.89       890\n",
            "weighted avg       1.00      1.00      1.00       890\n",
            "\n",
            "\n",
            "Confusion matrix:\n",
            "[[878   2   0]\n",
            " [  0   6   0]\n",
            " [  0   1   3]]\n"
          ]
        }
      ]
    }
  ]
}